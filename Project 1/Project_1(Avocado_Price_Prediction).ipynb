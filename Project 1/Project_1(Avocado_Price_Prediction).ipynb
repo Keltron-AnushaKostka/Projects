{
  "nbformat": 4,
  "nbformat_minor": 0,
  "metadata": {
    "colab": {
      "provenance": []
    },
    "kernelspec": {
      "name": "python3",
      "display_name": "Python 3"
    },
    "language_info": {
      "name": "python"
    }
  },
  "cells": [
    {
      "cell_type": "code",
      "execution_count": 6,
      "metadata": {
        "id": "dBB0bz0uyPGG"
      },
      "outputs": [],
      "source": [
        "import numpy as np\n",
        "import pandas as pd\n",
        "import matplotlib.pyplot as plt\n",
        "import seaborn as sns\n",
        "from sklearn.model_selection import train_test_split\n",
        "from sklearn.linear_model import LogisticRegression  \n",
        "#from sklearn.linear_model import LinearRegression\n",
        "#from sklearn.tree import DecisionTreeClassifier\n",
        "#from sklearn.ensemble import RandomForestClassifier\n",
        "#from sklearn.neighbors import KNeighborsClassifier\n",
        "#from sklearn.naive_bayes import GaussianNB\n",
        "#from sklearn.svm import SVC\n",
        "#from sklearn.preprocessing import MinMaxScaler\n",
        "from sklearn.metrics import accuracy_score\n"
      ]
    },
    {
      "cell_type": "code",
      "source": [
        "#from google.colab import files\n",
        "#files.upload()"
      ],
      "metadata": {
        "id": "WZnSU68q49md"
      },
      "execution_count": 46,
      "outputs": []
    },
    {
      "cell_type": "code",
      "source": [
        "price_data = pd.read_csv('avocado.csv')\n",
        "price_data"
      ],
      "metadata": {
        "colab": {
          "base_uri": "https://localhost:8080/",
          "height": 659
        },
        "id": "_mWJjCJS5Fg0",
        "outputId": "eb7d0bd2-9cea-4065-e50f-7dc53448d22e"
      },
      "execution_count": 8,
      "outputs": [
        {
          "output_type": "execute_result",
          "data": {
            "text/plain": [
              "       Unnamed: 0        Date  AveragePrice  Total Volume     4046       4225  \\\n",
              "0               0  2015-12-27          1.33      64236.62  1036.74   54454.85   \n",
              "1               1  2015-12-20          1.35      54876.98   674.28   44638.81   \n",
              "2               2  2015-12-13          0.93     118220.22   794.70  109149.67   \n",
              "3               3  2015-12-06          1.08      78992.15  1132.00   71976.41   \n",
              "4               4  2015-11-29          1.28      51039.60   941.48   43838.39   \n",
              "...           ...         ...           ...           ...      ...        ...   \n",
              "18244           7  2018-02-04          1.63      17074.83  2046.96    1529.20   \n",
              "18245           8  2018-01-28          1.71      13888.04  1191.70    3431.50   \n",
              "18246           9  2018-01-21          1.87      13766.76  1191.92    2452.79   \n",
              "18247          10  2018-01-14          1.93      16205.22  1527.63    2981.04   \n",
              "18248          11  2018-01-07          1.62      17489.58  2894.77    2356.13   \n",
              "\n",
              "         4770  Total Bags  Small Bags  Large Bags  XLarge Bags          type  \\\n",
              "0       48.16     8696.87     8603.62       93.25          0.0  conventional   \n",
              "1       58.33     9505.56     9408.07       97.49          0.0  conventional   \n",
              "2      130.50     8145.35     8042.21      103.14          0.0  conventional   \n",
              "3       72.58     5811.16     5677.40      133.76          0.0  conventional   \n",
              "4       75.78     6183.95     5986.26      197.69          0.0  conventional   \n",
              "...       ...         ...         ...         ...          ...           ...   \n",
              "18244    0.00    13498.67    13066.82      431.85          0.0       organic   \n",
              "18245    0.00     9264.84     8940.04      324.80          0.0       organic   \n",
              "18246  727.94     9394.11     9351.80       42.31          0.0       organic   \n",
              "18247  727.01    10969.54    10919.54       50.00          0.0       organic   \n",
              "18248  224.53    12014.15    11988.14       26.01          0.0       organic   \n",
              "\n",
              "       year            region  \n",
              "0      2015            Albany  \n",
              "1      2015            Albany  \n",
              "2      2015            Albany  \n",
              "3      2015            Albany  \n",
              "4      2015            Albany  \n",
              "...     ...               ...  \n",
              "18244  2018  WestTexNewMexico  \n",
              "18245  2018  WestTexNewMexico  \n",
              "18246  2018  WestTexNewMexico  \n",
              "18247  2018  WestTexNewMexico  \n",
              "18248  2018  WestTexNewMexico  \n",
              "\n",
              "[18249 rows x 14 columns]"
            ],
            "text/html": [
              "\n",
              "  <div id=\"df-a85b5381-ff2d-4101-a2a3-d052e1701ccb\">\n",
              "    <div class=\"colab-df-container\">\n",
              "      <div>\n",
              "<style scoped>\n",
              "    .dataframe tbody tr th:only-of-type {\n",
              "        vertical-align: middle;\n",
              "    }\n",
              "\n",
              "    .dataframe tbody tr th {\n",
              "        vertical-align: top;\n",
              "    }\n",
              "\n",
              "    .dataframe thead th {\n",
              "        text-align: right;\n",
              "    }\n",
              "</style>\n",
              "<table border=\"1\" class=\"dataframe\">\n",
              "  <thead>\n",
              "    <tr style=\"text-align: right;\">\n",
              "      <th></th>\n",
              "      <th>Unnamed: 0</th>\n",
              "      <th>Date</th>\n",
              "      <th>AveragePrice</th>\n",
              "      <th>Total Volume</th>\n",
              "      <th>4046</th>\n",
              "      <th>4225</th>\n",
              "      <th>4770</th>\n",
              "      <th>Total Bags</th>\n",
              "      <th>Small Bags</th>\n",
              "      <th>Large Bags</th>\n",
              "      <th>XLarge Bags</th>\n",
              "      <th>type</th>\n",
              "      <th>year</th>\n",
              "      <th>region</th>\n",
              "    </tr>\n",
              "  </thead>\n",
              "  <tbody>\n",
              "    <tr>\n",
              "      <th>0</th>\n",
              "      <td>0</td>\n",
              "      <td>2015-12-27</td>\n",
              "      <td>1.33</td>\n",
              "      <td>64236.62</td>\n",
              "      <td>1036.74</td>\n",
              "      <td>54454.85</td>\n",
              "      <td>48.16</td>\n",
              "      <td>8696.87</td>\n",
              "      <td>8603.62</td>\n",
              "      <td>93.25</td>\n",
              "      <td>0.0</td>\n",
              "      <td>conventional</td>\n",
              "      <td>2015</td>\n",
              "      <td>Albany</td>\n",
              "    </tr>\n",
              "    <tr>\n",
              "      <th>1</th>\n",
              "      <td>1</td>\n",
              "      <td>2015-12-20</td>\n",
              "      <td>1.35</td>\n",
              "      <td>54876.98</td>\n",
              "      <td>674.28</td>\n",
              "      <td>44638.81</td>\n",
              "      <td>58.33</td>\n",
              "      <td>9505.56</td>\n",
              "      <td>9408.07</td>\n",
              "      <td>97.49</td>\n",
              "      <td>0.0</td>\n",
              "      <td>conventional</td>\n",
              "      <td>2015</td>\n",
              "      <td>Albany</td>\n",
              "    </tr>\n",
              "    <tr>\n",
              "      <th>2</th>\n",
              "      <td>2</td>\n",
              "      <td>2015-12-13</td>\n",
              "      <td>0.93</td>\n",
              "      <td>118220.22</td>\n",
              "      <td>794.70</td>\n",
              "      <td>109149.67</td>\n",
              "      <td>130.50</td>\n",
              "      <td>8145.35</td>\n",
              "      <td>8042.21</td>\n",
              "      <td>103.14</td>\n",
              "      <td>0.0</td>\n",
              "      <td>conventional</td>\n",
              "      <td>2015</td>\n",
              "      <td>Albany</td>\n",
              "    </tr>\n",
              "    <tr>\n",
              "      <th>3</th>\n",
              "      <td>3</td>\n",
              "      <td>2015-12-06</td>\n",
              "      <td>1.08</td>\n",
              "      <td>78992.15</td>\n",
              "      <td>1132.00</td>\n",
              "      <td>71976.41</td>\n",
              "      <td>72.58</td>\n",
              "      <td>5811.16</td>\n",
              "      <td>5677.40</td>\n",
              "      <td>133.76</td>\n",
              "      <td>0.0</td>\n",
              "      <td>conventional</td>\n",
              "      <td>2015</td>\n",
              "      <td>Albany</td>\n",
              "    </tr>\n",
              "    <tr>\n",
              "      <th>4</th>\n",
              "      <td>4</td>\n",
              "      <td>2015-11-29</td>\n",
              "      <td>1.28</td>\n",
              "      <td>51039.60</td>\n",
              "      <td>941.48</td>\n",
              "      <td>43838.39</td>\n",
              "      <td>75.78</td>\n",
              "      <td>6183.95</td>\n",
              "      <td>5986.26</td>\n",
              "      <td>197.69</td>\n",
              "      <td>0.0</td>\n",
              "      <td>conventional</td>\n",
              "      <td>2015</td>\n",
              "      <td>Albany</td>\n",
              "    </tr>\n",
              "    <tr>\n",
              "      <th>...</th>\n",
              "      <td>...</td>\n",
              "      <td>...</td>\n",
              "      <td>...</td>\n",
              "      <td>...</td>\n",
              "      <td>...</td>\n",
              "      <td>...</td>\n",
              "      <td>...</td>\n",
              "      <td>...</td>\n",
              "      <td>...</td>\n",
              "      <td>...</td>\n",
              "      <td>...</td>\n",
              "      <td>...</td>\n",
              "      <td>...</td>\n",
              "      <td>...</td>\n",
              "    </tr>\n",
              "    <tr>\n",
              "      <th>18244</th>\n",
              "      <td>7</td>\n",
              "      <td>2018-02-04</td>\n",
              "      <td>1.63</td>\n",
              "      <td>17074.83</td>\n",
              "      <td>2046.96</td>\n",
              "      <td>1529.20</td>\n",
              "      <td>0.00</td>\n",
              "      <td>13498.67</td>\n",
              "      <td>13066.82</td>\n",
              "      <td>431.85</td>\n",
              "      <td>0.0</td>\n",
              "      <td>organic</td>\n",
              "      <td>2018</td>\n",
              "      <td>WestTexNewMexico</td>\n",
              "    </tr>\n",
              "    <tr>\n",
              "      <th>18245</th>\n",
              "      <td>8</td>\n",
              "      <td>2018-01-28</td>\n",
              "      <td>1.71</td>\n",
              "      <td>13888.04</td>\n",
              "      <td>1191.70</td>\n",
              "      <td>3431.50</td>\n",
              "      <td>0.00</td>\n",
              "      <td>9264.84</td>\n",
              "      <td>8940.04</td>\n",
              "      <td>324.80</td>\n",
              "      <td>0.0</td>\n",
              "      <td>organic</td>\n",
              "      <td>2018</td>\n",
              "      <td>WestTexNewMexico</td>\n",
              "    </tr>\n",
              "    <tr>\n",
              "      <th>18246</th>\n",
              "      <td>9</td>\n",
              "      <td>2018-01-21</td>\n",
              "      <td>1.87</td>\n",
              "      <td>13766.76</td>\n",
              "      <td>1191.92</td>\n",
              "      <td>2452.79</td>\n",
              "      <td>727.94</td>\n",
              "      <td>9394.11</td>\n",
              "      <td>9351.80</td>\n",
              "      <td>42.31</td>\n",
              "      <td>0.0</td>\n",
              "      <td>organic</td>\n",
              "      <td>2018</td>\n",
              "      <td>WestTexNewMexico</td>\n",
              "    </tr>\n",
              "    <tr>\n",
              "      <th>18247</th>\n",
              "      <td>10</td>\n",
              "      <td>2018-01-14</td>\n",
              "      <td>1.93</td>\n",
              "      <td>16205.22</td>\n",
              "      <td>1527.63</td>\n",
              "      <td>2981.04</td>\n",
              "      <td>727.01</td>\n",
              "      <td>10969.54</td>\n",
              "      <td>10919.54</td>\n",
              "      <td>50.00</td>\n",
              "      <td>0.0</td>\n",
              "      <td>organic</td>\n",
              "      <td>2018</td>\n",
              "      <td>WestTexNewMexico</td>\n",
              "    </tr>\n",
              "    <tr>\n",
              "      <th>18248</th>\n",
              "      <td>11</td>\n",
              "      <td>2018-01-07</td>\n",
              "      <td>1.62</td>\n",
              "      <td>17489.58</td>\n",
              "      <td>2894.77</td>\n",
              "      <td>2356.13</td>\n",
              "      <td>224.53</td>\n",
              "      <td>12014.15</td>\n",
              "      <td>11988.14</td>\n",
              "      <td>26.01</td>\n",
              "      <td>0.0</td>\n",
              "      <td>organic</td>\n",
              "      <td>2018</td>\n",
              "      <td>WestTexNewMexico</td>\n",
              "    </tr>\n",
              "  </tbody>\n",
              "</table>\n",
              "<p>18249 rows × 14 columns</p>\n",
              "</div>\n",
              "      <button class=\"colab-df-convert\" onclick=\"convertToInteractive('df-a85b5381-ff2d-4101-a2a3-d052e1701ccb')\"\n",
              "              title=\"Convert this dataframe to an interactive table.\"\n",
              "              style=\"display:none;\">\n",
              "        \n",
              "  <svg xmlns=\"http://www.w3.org/2000/svg\" height=\"24px\"viewBox=\"0 0 24 24\"\n",
              "       width=\"24px\">\n",
              "    <path d=\"M0 0h24v24H0V0z\" fill=\"none\"/>\n",
              "    <path d=\"M18.56 5.44l.94 2.06.94-2.06 2.06-.94-2.06-.94-.94-2.06-.94 2.06-2.06.94zm-11 1L8.5 8.5l.94-2.06 2.06-.94-2.06-.94L8.5 2.5l-.94 2.06-2.06.94zm10 10l.94 2.06.94-2.06 2.06-.94-2.06-.94-.94-2.06-.94 2.06-2.06.94z\"/><path d=\"M17.41 7.96l-1.37-1.37c-.4-.4-.92-.59-1.43-.59-.52 0-1.04.2-1.43.59L10.3 9.45l-7.72 7.72c-.78.78-.78 2.05 0 2.83L4 21.41c.39.39.9.59 1.41.59.51 0 1.02-.2 1.41-.59l7.78-7.78 2.81-2.81c.8-.78.8-2.07 0-2.86zM5.41 20L4 18.59l7.72-7.72 1.47 1.35L5.41 20z\"/>\n",
              "  </svg>\n",
              "      </button>\n",
              "      \n",
              "  <style>\n",
              "    .colab-df-container {\n",
              "      display:flex;\n",
              "      flex-wrap:wrap;\n",
              "      gap: 12px;\n",
              "    }\n",
              "\n",
              "    .colab-df-convert {\n",
              "      background-color: #E8F0FE;\n",
              "      border: none;\n",
              "      border-radius: 50%;\n",
              "      cursor: pointer;\n",
              "      display: none;\n",
              "      fill: #1967D2;\n",
              "      height: 32px;\n",
              "      padding: 0 0 0 0;\n",
              "      width: 32px;\n",
              "    }\n",
              "\n",
              "    .colab-df-convert:hover {\n",
              "      background-color: #E2EBFA;\n",
              "      box-shadow: 0px 1px 2px rgba(60, 64, 67, 0.3), 0px 1px 3px 1px rgba(60, 64, 67, 0.15);\n",
              "      fill: #174EA6;\n",
              "    }\n",
              "\n",
              "    [theme=dark] .colab-df-convert {\n",
              "      background-color: #3B4455;\n",
              "      fill: #D2E3FC;\n",
              "    }\n",
              "\n",
              "    [theme=dark] .colab-df-convert:hover {\n",
              "      background-color: #434B5C;\n",
              "      box-shadow: 0px 1px 3px 1px rgba(0, 0, 0, 0.15);\n",
              "      filter: drop-shadow(0px 1px 2px rgba(0, 0, 0, 0.3));\n",
              "      fill: #FFFFFF;\n",
              "    }\n",
              "  </style>\n",
              "\n",
              "      <script>\n",
              "        const buttonEl =\n",
              "          document.querySelector('#df-a85b5381-ff2d-4101-a2a3-d052e1701ccb button.colab-df-convert');\n",
              "        buttonEl.style.display =\n",
              "          google.colab.kernel.accessAllowed ? 'block' : 'none';\n",
              "\n",
              "        async function convertToInteractive(key) {\n",
              "          const element = document.querySelector('#df-a85b5381-ff2d-4101-a2a3-d052e1701ccb');\n",
              "          const dataTable =\n",
              "            await google.colab.kernel.invokeFunction('convertToInteractive',\n",
              "                                                     [key], {});\n",
              "          if (!dataTable) return;\n",
              "\n",
              "          const docLinkHtml = 'Like what you see? Visit the ' +\n",
              "            '<a target=\"_blank\" href=https://colab.research.google.com/notebooks/data_table.ipynb>data table notebook</a>'\n",
              "            + ' to learn more about interactive tables.';\n",
              "          element.innerHTML = '';\n",
              "          dataTable['output_type'] = 'display_data';\n",
              "          await google.colab.output.renderOutput(dataTable, element);\n",
              "          const docLink = document.createElement('div');\n",
              "          docLink.innerHTML = docLinkHtml;\n",
              "          element.appendChild(docLink);\n",
              "        }\n",
              "      </script>\n",
              "    </div>\n",
              "  </div>\n",
              "  "
            ]
          },
          "metadata": {},
          "execution_count": 8
        }
      ]
    },
    {
      "cell_type": "code",
      "source": [
        "price_data.head()"
      ],
      "metadata": {
        "colab": {
          "base_uri": "https://localhost:8080/",
          "height": 206
        },
        "id": "Rzxn3duA5MhQ",
        "outputId": "27fc0a2f-5c18-49eb-cf37-f5fe9801af9e"
      },
      "execution_count": 9,
      "outputs": [
        {
          "output_type": "execute_result",
          "data": {
            "text/plain": [
              "   Unnamed: 0        Date  AveragePrice  Total Volume     4046       4225  \\\n",
              "0           0  2015-12-27          1.33      64236.62  1036.74   54454.85   \n",
              "1           1  2015-12-20          1.35      54876.98   674.28   44638.81   \n",
              "2           2  2015-12-13          0.93     118220.22   794.70  109149.67   \n",
              "3           3  2015-12-06          1.08      78992.15  1132.00   71976.41   \n",
              "4           4  2015-11-29          1.28      51039.60   941.48   43838.39   \n",
              "\n",
              "     4770  Total Bags  Small Bags  Large Bags  XLarge Bags          type  \\\n",
              "0   48.16     8696.87     8603.62       93.25          0.0  conventional   \n",
              "1   58.33     9505.56     9408.07       97.49          0.0  conventional   \n",
              "2  130.50     8145.35     8042.21      103.14          0.0  conventional   \n",
              "3   72.58     5811.16     5677.40      133.76          0.0  conventional   \n",
              "4   75.78     6183.95     5986.26      197.69          0.0  conventional   \n",
              "\n",
              "   year  region  \n",
              "0  2015  Albany  \n",
              "1  2015  Albany  \n",
              "2  2015  Albany  \n",
              "3  2015  Albany  \n",
              "4  2015  Albany  "
            ],
            "text/html": [
              "\n",
              "  <div id=\"df-ff66ecf4-c89a-41ff-8714-20184ade251f\">\n",
              "    <div class=\"colab-df-container\">\n",
              "      <div>\n",
              "<style scoped>\n",
              "    .dataframe tbody tr th:only-of-type {\n",
              "        vertical-align: middle;\n",
              "    }\n",
              "\n",
              "    .dataframe tbody tr th {\n",
              "        vertical-align: top;\n",
              "    }\n",
              "\n",
              "    .dataframe thead th {\n",
              "        text-align: right;\n",
              "    }\n",
              "</style>\n",
              "<table border=\"1\" class=\"dataframe\">\n",
              "  <thead>\n",
              "    <tr style=\"text-align: right;\">\n",
              "      <th></th>\n",
              "      <th>Unnamed: 0</th>\n",
              "      <th>Date</th>\n",
              "      <th>AveragePrice</th>\n",
              "      <th>Total Volume</th>\n",
              "      <th>4046</th>\n",
              "      <th>4225</th>\n",
              "      <th>4770</th>\n",
              "      <th>Total Bags</th>\n",
              "      <th>Small Bags</th>\n",
              "      <th>Large Bags</th>\n",
              "      <th>XLarge Bags</th>\n",
              "      <th>type</th>\n",
              "      <th>year</th>\n",
              "      <th>region</th>\n",
              "    </tr>\n",
              "  </thead>\n",
              "  <tbody>\n",
              "    <tr>\n",
              "      <th>0</th>\n",
              "      <td>0</td>\n",
              "      <td>2015-12-27</td>\n",
              "      <td>1.33</td>\n",
              "      <td>64236.62</td>\n",
              "      <td>1036.74</td>\n",
              "      <td>54454.85</td>\n",
              "      <td>48.16</td>\n",
              "      <td>8696.87</td>\n",
              "      <td>8603.62</td>\n",
              "      <td>93.25</td>\n",
              "      <td>0.0</td>\n",
              "      <td>conventional</td>\n",
              "      <td>2015</td>\n",
              "      <td>Albany</td>\n",
              "    </tr>\n",
              "    <tr>\n",
              "      <th>1</th>\n",
              "      <td>1</td>\n",
              "      <td>2015-12-20</td>\n",
              "      <td>1.35</td>\n",
              "      <td>54876.98</td>\n",
              "      <td>674.28</td>\n",
              "      <td>44638.81</td>\n",
              "      <td>58.33</td>\n",
              "      <td>9505.56</td>\n",
              "      <td>9408.07</td>\n",
              "      <td>97.49</td>\n",
              "      <td>0.0</td>\n",
              "      <td>conventional</td>\n",
              "      <td>2015</td>\n",
              "      <td>Albany</td>\n",
              "    </tr>\n",
              "    <tr>\n",
              "      <th>2</th>\n",
              "      <td>2</td>\n",
              "      <td>2015-12-13</td>\n",
              "      <td>0.93</td>\n",
              "      <td>118220.22</td>\n",
              "      <td>794.70</td>\n",
              "      <td>109149.67</td>\n",
              "      <td>130.50</td>\n",
              "      <td>8145.35</td>\n",
              "      <td>8042.21</td>\n",
              "      <td>103.14</td>\n",
              "      <td>0.0</td>\n",
              "      <td>conventional</td>\n",
              "      <td>2015</td>\n",
              "      <td>Albany</td>\n",
              "    </tr>\n",
              "    <tr>\n",
              "      <th>3</th>\n",
              "      <td>3</td>\n",
              "      <td>2015-12-06</td>\n",
              "      <td>1.08</td>\n",
              "      <td>78992.15</td>\n",
              "      <td>1132.00</td>\n",
              "      <td>71976.41</td>\n",
              "      <td>72.58</td>\n",
              "      <td>5811.16</td>\n",
              "      <td>5677.40</td>\n",
              "      <td>133.76</td>\n",
              "      <td>0.0</td>\n",
              "      <td>conventional</td>\n",
              "      <td>2015</td>\n",
              "      <td>Albany</td>\n",
              "    </tr>\n",
              "    <tr>\n",
              "      <th>4</th>\n",
              "      <td>4</td>\n",
              "      <td>2015-11-29</td>\n",
              "      <td>1.28</td>\n",
              "      <td>51039.60</td>\n",
              "      <td>941.48</td>\n",
              "      <td>43838.39</td>\n",
              "      <td>75.78</td>\n",
              "      <td>6183.95</td>\n",
              "      <td>5986.26</td>\n",
              "      <td>197.69</td>\n",
              "      <td>0.0</td>\n",
              "      <td>conventional</td>\n",
              "      <td>2015</td>\n",
              "      <td>Albany</td>\n",
              "    </tr>\n",
              "  </tbody>\n",
              "</table>\n",
              "</div>\n",
              "      <button class=\"colab-df-convert\" onclick=\"convertToInteractive('df-ff66ecf4-c89a-41ff-8714-20184ade251f')\"\n",
              "              title=\"Convert this dataframe to an interactive table.\"\n",
              "              style=\"display:none;\">\n",
              "        \n",
              "  <svg xmlns=\"http://www.w3.org/2000/svg\" height=\"24px\"viewBox=\"0 0 24 24\"\n",
              "       width=\"24px\">\n",
              "    <path d=\"M0 0h24v24H0V0z\" fill=\"none\"/>\n",
              "    <path d=\"M18.56 5.44l.94 2.06.94-2.06 2.06-.94-2.06-.94-.94-2.06-.94 2.06-2.06.94zm-11 1L8.5 8.5l.94-2.06 2.06-.94-2.06-.94L8.5 2.5l-.94 2.06-2.06.94zm10 10l.94 2.06.94-2.06 2.06-.94-2.06-.94-.94-2.06-.94 2.06-2.06.94z\"/><path d=\"M17.41 7.96l-1.37-1.37c-.4-.4-.92-.59-1.43-.59-.52 0-1.04.2-1.43.59L10.3 9.45l-7.72 7.72c-.78.78-.78 2.05 0 2.83L4 21.41c.39.39.9.59 1.41.59.51 0 1.02-.2 1.41-.59l7.78-7.78 2.81-2.81c.8-.78.8-2.07 0-2.86zM5.41 20L4 18.59l7.72-7.72 1.47 1.35L5.41 20z\"/>\n",
              "  </svg>\n",
              "      </button>\n",
              "      \n",
              "  <style>\n",
              "    .colab-df-container {\n",
              "      display:flex;\n",
              "      flex-wrap:wrap;\n",
              "      gap: 12px;\n",
              "    }\n",
              "\n",
              "    .colab-df-convert {\n",
              "      background-color: #E8F0FE;\n",
              "      border: none;\n",
              "      border-radius: 50%;\n",
              "      cursor: pointer;\n",
              "      display: none;\n",
              "      fill: #1967D2;\n",
              "      height: 32px;\n",
              "      padding: 0 0 0 0;\n",
              "      width: 32px;\n",
              "    }\n",
              "\n",
              "    .colab-df-convert:hover {\n",
              "      background-color: #E2EBFA;\n",
              "      box-shadow: 0px 1px 2px rgba(60, 64, 67, 0.3), 0px 1px 3px 1px rgba(60, 64, 67, 0.15);\n",
              "      fill: #174EA6;\n",
              "    }\n",
              "\n",
              "    [theme=dark] .colab-df-convert {\n",
              "      background-color: #3B4455;\n",
              "      fill: #D2E3FC;\n",
              "    }\n",
              "\n",
              "    [theme=dark] .colab-df-convert:hover {\n",
              "      background-color: #434B5C;\n",
              "      box-shadow: 0px 1px 3px 1px rgba(0, 0, 0, 0.15);\n",
              "      filter: drop-shadow(0px 1px 2px rgba(0, 0, 0, 0.3));\n",
              "      fill: #FFFFFF;\n",
              "    }\n",
              "  </style>\n",
              "\n",
              "      <script>\n",
              "        const buttonEl =\n",
              "          document.querySelector('#df-ff66ecf4-c89a-41ff-8714-20184ade251f button.colab-df-convert');\n",
              "        buttonEl.style.display =\n",
              "          google.colab.kernel.accessAllowed ? 'block' : 'none';\n",
              "\n",
              "        async function convertToInteractive(key) {\n",
              "          const element = document.querySelector('#df-ff66ecf4-c89a-41ff-8714-20184ade251f');\n",
              "          const dataTable =\n",
              "            await google.colab.kernel.invokeFunction('convertToInteractive',\n",
              "                                                     [key], {});\n",
              "          if (!dataTable) return;\n",
              "\n",
              "          const docLinkHtml = 'Like what you see? Visit the ' +\n",
              "            '<a target=\"_blank\" href=https://colab.research.google.com/notebooks/data_table.ipynb>data table notebook</a>'\n",
              "            + ' to learn more about interactive tables.';\n",
              "          element.innerHTML = '';\n",
              "          dataTable['output_type'] = 'display_data';\n",
              "          await google.colab.output.renderOutput(dataTable, element);\n",
              "          const docLink = document.createElement('div');\n",
              "          docLink.innerHTML = docLinkHtml;\n",
              "          element.appendChild(docLink);\n",
              "        }\n",
              "      </script>\n",
              "    </div>\n",
              "  </div>\n",
              "  "
            ]
          },
          "metadata": {},
          "execution_count": 9
        }
      ]
    },
    {
      "cell_type": "code",
      "source": [
        "price_data.shape"
      ],
      "metadata": {
        "colab": {
          "base_uri": "https://localhost:8080/"
        },
        "id": "eiNA0iZc5Odk",
        "outputId": "74515f60-7f9d-438c-d342-d07d51ec39a5"
      },
      "execution_count": 10,
      "outputs": [
        {
          "output_type": "execute_result",
          "data": {
            "text/plain": [
              "(18249, 14)"
            ]
          },
          "metadata": {},
          "execution_count": 10
        }
      ]
    },
    {
      "cell_type": "code",
      "source": [
        "price_data.info()"
      ],
      "metadata": {
        "colab": {
          "base_uri": "https://localhost:8080/"
        },
        "id": "vdQiZU405QLM",
        "outputId": "66a70e06-72b8-4942-e8c1-96a0075b11c3"
      },
      "execution_count": 11,
      "outputs": [
        {
          "output_type": "stream",
          "name": "stdout",
          "text": [
            "<class 'pandas.core.frame.DataFrame'>\n",
            "RangeIndex: 18249 entries, 0 to 18248\n",
            "Data columns (total 14 columns):\n",
            " #   Column        Non-Null Count  Dtype  \n",
            "---  ------        --------------  -----  \n",
            " 0   Unnamed: 0    18249 non-null  int64  \n",
            " 1   Date          18249 non-null  object \n",
            " 2   AveragePrice  18249 non-null  float64\n",
            " 3   Total Volume  18249 non-null  float64\n",
            " 4   4046          18249 non-null  float64\n",
            " 5   4225          18249 non-null  float64\n",
            " 6   4770          18249 non-null  float64\n",
            " 7   Total Bags    18249 non-null  float64\n",
            " 8   Small Bags    18249 non-null  float64\n",
            " 9   Large Bags    18249 non-null  float64\n",
            " 10  XLarge Bags   18249 non-null  float64\n",
            " 11  type          18249 non-null  object \n",
            " 12  year          18249 non-null  int64  \n",
            " 13  region        18249 non-null  object \n",
            "dtypes: float64(9), int64(2), object(3)\n",
            "memory usage: 1.9+ MB\n"
          ]
        }
      ]
    },
    {
      "cell_type": "code",
      "source": [
        "price_data.describe()"
      ],
      "metadata": {
        "colab": {
          "base_uri": "https://localhost:8080/",
          "height": 344
        },
        "id": "2DW2Q9oI5Swr",
        "outputId": "c29e8b53-eb19-479c-ef9a-d07ee068ff7d"
      },
      "execution_count": 12,
      "outputs": [
        {
          "output_type": "execute_result",
          "data": {
            "text/plain": [
              "         Unnamed: 0  AveragePrice  Total Volume          4046          4225  \\\n",
              "count  18249.000000  18249.000000  1.824900e+04  1.824900e+04  1.824900e+04   \n",
              "mean      24.232232      1.405978  8.506440e+05  2.930084e+05  2.951546e+05   \n",
              "std       15.481045      0.402677  3.453545e+06  1.264989e+06  1.204120e+06   \n",
              "min        0.000000      0.440000  8.456000e+01  0.000000e+00  0.000000e+00   \n",
              "25%       10.000000      1.100000  1.083858e+04  8.540700e+02  3.008780e+03   \n",
              "50%       24.000000      1.370000  1.073768e+05  8.645300e+03  2.906102e+04   \n",
              "75%       38.000000      1.660000  4.329623e+05  1.110202e+05  1.502069e+05   \n",
              "max       52.000000      3.250000  6.250565e+07  2.274362e+07  2.047057e+07   \n",
              "\n",
              "               4770    Total Bags    Small Bags    Large Bags    XLarge Bags  \\\n",
              "count  1.824900e+04  1.824900e+04  1.824900e+04  1.824900e+04   18249.000000   \n",
              "mean   2.283974e+04  2.396392e+05  1.821947e+05  5.433809e+04    3106.426507   \n",
              "std    1.074641e+05  9.862424e+05  7.461785e+05  2.439660e+05   17692.894652   \n",
              "min    0.000000e+00  0.000000e+00  0.000000e+00  0.000000e+00       0.000000   \n",
              "25%    0.000000e+00  5.088640e+03  2.849420e+03  1.274700e+02       0.000000   \n",
              "50%    1.849900e+02  3.974383e+04  2.636282e+04  2.647710e+03       0.000000   \n",
              "75%    6.243420e+03  1.107834e+05  8.333767e+04  2.202925e+04     132.500000   \n",
              "max    2.546439e+06  1.937313e+07  1.338459e+07  5.719097e+06  551693.650000   \n",
              "\n",
              "               year  \n",
              "count  18249.000000  \n",
              "mean    2016.147899  \n",
              "std        0.939938  \n",
              "min     2015.000000  \n",
              "25%     2015.000000  \n",
              "50%     2016.000000  \n",
              "75%     2017.000000  \n",
              "max     2018.000000  "
            ],
            "text/html": [
              "\n",
              "  <div id=\"df-4fcd7599-915f-401f-aaa0-fc9d8d5567c3\">\n",
              "    <div class=\"colab-df-container\">\n",
              "      <div>\n",
              "<style scoped>\n",
              "    .dataframe tbody tr th:only-of-type {\n",
              "        vertical-align: middle;\n",
              "    }\n",
              "\n",
              "    .dataframe tbody tr th {\n",
              "        vertical-align: top;\n",
              "    }\n",
              "\n",
              "    .dataframe thead th {\n",
              "        text-align: right;\n",
              "    }\n",
              "</style>\n",
              "<table border=\"1\" class=\"dataframe\">\n",
              "  <thead>\n",
              "    <tr style=\"text-align: right;\">\n",
              "      <th></th>\n",
              "      <th>Unnamed: 0</th>\n",
              "      <th>AveragePrice</th>\n",
              "      <th>Total Volume</th>\n",
              "      <th>4046</th>\n",
              "      <th>4225</th>\n",
              "      <th>4770</th>\n",
              "      <th>Total Bags</th>\n",
              "      <th>Small Bags</th>\n",
              "      <th>Large Bags</th>\n",
              "      <th>XLarge Bags</th>\n",
              "      <th>year</th>\n",
              "    </tr>\n",
              "  </thead>\n",
              "  <tbody>\n",
              "    <tr>\n",
              "      <th>count</th>\n",
              "      <td>18249.000000</td>\n",
              "      <td>18249.000000</td>\n",
              "      <td>1.824900e+04</td>\n",
              "      <td>1.824900e+04</td>\n",
              "      <td>1.824900e+04</td>\n",
              "      <td>1.824900e+04</td>\n",
              "      <td>1.824900e+04</td>\n",
              "      <td>1.824900e+04</td>\n",
              "      <td>1.824900e+04</td>\n",
              "      <td>18249.000000</td>\n",
              "      <td>18249.000000</td>\n",
              "    </tr>\n",
              "    <tr>\n",
              "      <th>mean</th>\n",
              "      <td>24.232232</td>\n",
              "      <td>1.405978</td>\n",
              "      <td>8.506440e+05</td>\n",
              "      <td>2.930084e+05</td>\n",
              "      <td>2.951546e+05</td>\n",
              "      <td>2.283974e+04</td>\n",
              "      <td>2.396392e+05</td>\n",
              "      <td>1.821947e+05</td>\n",
              "      <td>5.433809e+04</td>\n",
              "      <td>3106.426507</td>\n",
              "      <td>2016.147899</td>\n",
              "    </tr>\n",
              "    <tr>\n",
              "      <th>std</th>\n",
              "      <td>15.481045</td>\n",
              "      <td>0.402677</td>\n",
              "      <td>3.453545e+06</td>\n",
              "      <td>1.264989e+06</td>\n",
              "      <td>1.204120e+06</td>\n",
              "      <td>1.074641e+05</td>\n",
              "      <td>9.862424e+05</td>\n",
              "      <td>7.461785e+05</td>\n",
              "      <td>2.439660e+05</td>\n",
              "      <td>17692.894652</td>\n",
              "      <td>0.939938</td>\n",
              "    </tr>\n",
              "    <tr>\n",
              "      <th>min</th>\n",
              "      <td>0.000000</td>\n",
              "      <td>0.440000</td>\n",
              "      <td>8.456000e+01</td>\n",
              "      <td>0.000000e+00</td>\n",
              "      <td>0.000000e+00</td>\n",
              "      <td>0.000000e+00</td>\n",
              "      <td>0.000000e+00</td>\n",
              "      <td>0.000000e+00</td>\n",
              "      <td>0.000000e+00</td>\n",
              "      <td>0.000000</td>\n",
              "      <td>2015.000000</td>\n",
              "    </tr>\n",
              "    <tr>\n",
              "      <th>25%</th>\n",
              "      <td>10.000000</td>\n",
              "      <td>1.100000</td>\n",
              "      <td>1.083858e+04</td>\n",
              "      <td>8.540700e+02</td>\n",
              "      <td>3.008780e+03</td>\n",
              "      <td>0.000000e+00</td>\n",
              "      <td>5.088640e+03</td>\n",
              "      <td>2.849420e+03</td>\n",
              "      <td>1.274700e+02</td>\n",
              "      <td>0.000000</td>\n",
              "      <td>2015.000000</td>\n",
              "    </tr>\n",
              "    <tr>\n",
              "      <th>50%</th>\n",
              "      <td>24.000000</td>\n",
              "      <td>1.370000</td>\n",
              "      <td>1.073768e+05</td>\n",
              "      <td>8.645300e+03</td>\n",
              "      <td>2.906102e+04</td>\n",
              "      <td>1.849900e+02</td>\n",
              "      <td>3.974383e+04</td>\n",
              "      <td>2.636282e+04</td>\n",
              "      <td>2.647710e+03</td>\n",
              "      <td>0.000000</td>\n",
              "      <td>2016.000000</td>\n",
              "    </tr>\n",
              "    <tr>\n",
              "      <th>75%</th>\n",
              "      <td>38.000000</td>\n",
              "      <td>1.660000</td>\n",
              "      <td>4.329623e+05</td>\n",
              "      <td>1.110202e+05</td>\n",
              "      <td>1.502069e+05</td>\n",
              "      <td>6.243420e+03</td>\n",
              "      <td>1.107834e+05</td>\n",
              "      <td>8.333767e+04</td>\n",
              "      <td>2.202925e+04</td>\n",
              "      <td>132.500000</td>\n",
              "      <td>2017.000000</td>\n",
              "    </tr>\n",
              "    <tr>\n",
              "      <th>max</th>\n",
              "      <td>52.000000</td>\n",
              "      <td>3.250000</td>\n",
              "      <td>6.250565e+07</td>\n",
              "      <td>2.274362e+07</td>\n",
              "      <td>2.047057e+07</td>\n",
              "      <td>2.546439e+06</td>\n",
              "      <td>1.937313e+07</td>\n",
              "      <td>1.338459e+07</td>\n",
              "      <td>5.719097e+06</td>\n",
              "      <td>551693.650000</td>\n",
              "      <td>2018.000000</td>\n",
              "    </tr>\n",
              "  </tbody>\n",
              "</table>\n",
              "</div>\n",
              "      <button class=\"colab-df-convert\" onclick=\"convertToInteractive('df-4fcd7599-915f-401f-aaa0-fc9d8d5567c3')\"\n",
              "              title=\"Convert this dataframe to an interactive table.\"\n",
              "              style=\"display:none;\">\n",
              "        \n",
              "  <svg xmlns=\"http://www.w3.org/2000/svg\" height=\"24px\"viewBox=\"0 0 24 24\"\n",
              "       width=\"24px\">\n",
              "    <path d=\"M0 0h24v24H0V0z\" fill=\"none\"/>\n",
              "    <path d=\"M18.56 5.44l.94 2.06.94-2.06 2.06-.94-2.06-.94-.94-2.06-.94 2.06-2.06.94zm-11 1L8.5 8.5l.94-2.06 2.06-.94-2.06-.94L8.5 2.5l-.94 2.06-2.06.94zm10 10l.94 2.06.94-2.06 2.06-.94-2.06-.94-.94-2.06-.94 2.06-2.06.94z\"/><path d=\"M17.41 7.96l-1.37-1.37c-.4-.4-.92-.59-1.43-.59-.52 0-1.04.2-1.43.59L10.3 9.45l-7.72 7.72c-.78.78-.78 2.05 0 2.83L4 21.41c.39.39.9.59 1.41.59.51 0 1.02-.2 1.41-.59l7.78-7.78 2.81-2.81c.8-.78.8-2.07 0-2.86zM5.41 20L4 18.59l7.72-7.72 1.47 1.35L5.41 20z\"/>\n",
              "  </svg>\n",
              "      </button>\n",
              "      \n",
              "  <style>\n",
              "    .colab-df-container {\n",
              "      display:flex;\n",
              "      flex-wrap:wrap;\n",
              "      gap: 12px;\n",
              "    }\n",
              "\n",
              "    .colab-df-convert {\n",
              "      background-color: #E8F0FE;\n",
              "      border: none;\n",
              "      border-radius: 50%;\n",
              "      cursor: pointer;\n",
              "      display: none;\n",
              "      fill: #1967D2;\n",
              "      height: 32px;\n",
              "      padding: 0 0 0 0;\n",
              "      width: 32px;\n",
              "    }\n",
              "\n",
              "    .colab-df-convert:hover {\n",
              "      background-color: #E2EBFA;\n",
              "      box-shadow: 0px 1px 2px rgba(60, 64, 67, 0.3), 0px 1px 3px 1px rgba(60, 64, 67, 0.15);\n",
              "      fill: #174EA6;\n",
              "    }\n",
              "\n",
              "    [theme=dark] .colab-df-convert {\n",
              "      background-color: #3B4455;\n",
              "      fill: #D2E3FC;\n",
              "    }\n",
              "\n",
              "    [theme=dark] .colab-df-convert:hover {\n",
              "      background-color: #434B5C;\n",
              "      box-shadow: 0px 1px 3px 1px rgba(0, 0, 0, 0.15);\n",
              "      filter: drop-shadow(0px 1px 2px rgba(0, 0, 0, 0.3));\n",
              "      fill: #FFFFFF;\n",
              "    }\n",
              "  </style>\n",
              "\n",
              "      <script>\n",
              "        const buttonEl =\n",
              "          document.querySelector('#df-4fcd7599-915f-401f-aaa0-fc9d8d5567c3 button.colab-df-convert');\n",
              "        buttonEl.style.display =\n",
              "          google.colab.kernel.accessAllowed ? 'block' : 'none';\n",
              "\n",
              "        async function convertToInteractive(key) {\n",
              "          const element = document.querySelector('#df-4fcd7599-915f-401f-aaa0-fc9d8d5567c3');\n",
              "          const dataTable =\n",
              "            await google.colab.kernel.invokeFunction('convertToInteractive',\n",
              "                                                     [key], {});\n",
              "          if (!dataTable) return;\n",
              "\n",
              "          const docLinkHtml = 'Like what you see? Visit the ' +\n",
              "            '<a target=\"_blank\" href=https://colab.research.google.com/notebooks/data_table.ipynb>data table notebook</a>'\n",
              "            + ' to learn more about interactive tables.';\n",
              "          element.innerHTML = '';\n",
              "          dataTable['output_type'] = 'display_data';\n",
              "          await google.colab.output.renderOutput(dataTable, element);\n",
              "          const docLink = document.createElement('div');\n",
              "          docLink.innerHTML = docLinkHtml;\n",
              "          element.appendChild(docLink);\n",
              "        }\n",
              "      </script>\n",
              "    </div>\n",
              "  </div>\n",
              "  "
            ]
          },
          "metadata": {},
          "execution_count": 12
        }
      ]
    },
    {
      "cell_type": "code",
      "source": [
        "price_data.isnull().sum()"
      ],
      "metadata": {
        "colab": {
          "base_uri": "https://localhost:8080/"
        },
        "id": "Sxq67JyK5WR0",
        "outputId": "3f3dfb8b-06be-4bbd-b8ba-2ba73c8a7c97"
      },
      "execution_count": 13,
      "outputs": [
        {
          "output_type": "execute_result",
          "data": {
            "text/plain": [
              "Unnamed: 0      0\n",
              "Date            0\n",
              "AveragePrice    0\n",
              "Total Volume    0\n",
              "4046            0\n",
              "4225            0\n",
              "4770            0\n",
              "Total Bags      0\n",
              "Small Bags      0\n",
              "Large Bags      0\n",
              "XLarge Bags     0\n",
              "type            0\n",
              "year            0\n",
              "region          0\n",
              "dtype: int64"
            ]
          },
          "metadata": {},
          "execution_count": 13
        }
      ]
    },
    {
      "cell_type": "code",
      "source": [
        "price_data['type'].value_counts()"
      ],
      "metadata": {
        "colab": {
          "base_uri": "https://localhost:8080/"
        },
        "id": "eZbOB_XO5Z0F",
        "outputId": "53314caa-a001-4d69-f841-3326dd8b402b"
      },
      "execution_count": 14,
      "outputs": [
        {
          "output_type": "execute_result",
          "data": {
            "text/plain": [
              "conventional    9126\n",
              "organic         9123\n",
              "Name: type, dtype: int64"
            ]
          },
          "metadata": {},
          "execution_count": 14
        }
      ]
    },
    {
      "cell_type": "code",
      "source": [
        "sns.countplot(price_data['year'], label = 'Count')"
      ],
      "metadata": {
        "colab": {
          "base_uri": "https://localhost:8080/",
          "height": 355
        },
        "id": "UHufMH2h_ADM",
        "outputId": "4adf463c-92dc-4708-bbbc-88c5f84f788b"
      },
      "execution_count": 15,
      "outputs": [
        {
          "output_type": "stream",
          "name": "stderr",
          "text": [
            "/usr/local/lib/python3.7/dist-packages/seaborn/_decorators.py:43: FutureWarning: Pass the following variable as a keyword arg: x. From version 0.12, the only valid positional argument will be `data`, and passing other arguments without an explicit keyword will result in an error or misinterpretation.\n",
            "  FutureWarning\n"
          ]
        },
        {
          "output_type": "execute_result",
          "data": {
            "text/plain": [
              "<matplotlib.axes._subplots.AxesSubplot at 0x7f8d85eeac90>"
            ]
          },
          "metadata": {},
          "execution_count": 15
        },
        {
          "output_type": "display_data",
          "data": {
            "text/plain": [
              "<Figure size 432x288 with 1 Axes>"
            ],
            "image/png": "[encoded data removed]"
          },
          "metadata": {
            "needs_background": "light"
          }
        }
      ]
    },
    {
      "cell_type": "code",
      "source": [
        "sns.countplot(x = 'type', data = price_data)\n",
        "price_data.drop('Total Volume', axis = 1).plot(kind = 'box', subplots = True, layout = (4, 4), sharex = False, sharey = False, figsize = (12, 12), title = 'Boxplot of all the Proces')"
      ],
      "metadata": {
        "colab": {
          "base_uri": "https://localhost:8080/",
          "height": 1000
        },
        "id": "XWSKLJeu6sj7",
        "outputId": "2609c471-2124-41ad-ba1c-59330fd0ae02"
      },
      "execution_count": 16,
      "outputs": [
        {
          "output_type": "execute_result",
          "data": {
            "text/plain": [
              "Unnamed: 0          AxesSubplot(0.125,0.71587;0.168478x0.16413)\n",
              "AveragePrice     AxesSubplot(0.327174,0.71587;0.168478x0.16413)\n",
              "4046             AxesSubplot(0.529348,0.71587;0.168478x0.16413)\n",
              "4225             AxesSubplot(0.731522,0.71587;0.168478x0.16413)\n",
              "4770               AxesSubplot(0.125,0.518913;0.168478x0.16413)\n",
              "Total Bags      AxesSubplot(0.327174,0.518913;0.168478x0.16413)\n",
              "Small Bags      AxesSubplot(0.529348,0.518913;0.168478x0.16413)\n",
              "Large Bags      AxesSubplot(0.731522,0.518913;0.168478x0.16413)\n",
              "XLarge Bags        AxesSubplot(0.125,0.321957;0.168478x0.16413)\n",
              "year            AxesSubplot(0.327174,0.321957;0.168478x0.16413)\n",
              "dtype: object"
            ]
          },
          "metadata": {},
          "execution_count": 16
        },
        {
          "output_type": "display_data",
          "data": {
            "text/plain": [
              "<Figure size 432x288 with 1 Axes>"
            ],
            "image/png": "[encoded data removed]"
          },
          "metadata": {
            "needs_background": "light"
          }
        },
        {
          "output_type": "display_data",
          "data": {
            "text/plain": [
              "<Figure size 864x864 with 16 Axes>"
            ],
            "image/png": "[encoded data removed]"
          },
          "metadata": {
            "needs_background": "light"
          }
        }
      ]
    },
    {
      "cell_type": "code",
      "source": [
        "price_data.replace({\"type\": {'conventional': 0, 'organic': 1}}, inplace = True)"
      ],
      "metadata": {
        "id": "a2Vfylgu6Fzs"
      },
      "execution_count": 17,
      "outputs": []
    },
    {
      "cell_type": "code",
      "source": [
        "price_data['region'].value_counts()"
      ],
      "metadata": {
        "colab": {
          "base_uri": "https://localhost:8080/"
        },
        "id": "u9StYCm355_O",
        "outputId": "01b7ceb2-caa3-4806-fffc-1750debc1fe8"
      },
      "execution_count": 18,
      "outputs": [
        {
          "output_type": "execute_result",
          "data": {
            "text/plain": [
              "Albany                 338\n",
              "Sacramento             338\n",
              "Northeast              338\n",
              "NorthernNewEngland     338\n",
              "Orlando                338\n",
              "Philadelphia           338\n",
              "PhoenixTucson          338\n",
              "Pittsburgh             338\n",
              "Plains                 338\n",
              "Portland               338\n",
              "RaleighGreensboro      338\n",
              "RichmondNorfolk        338\n",
              "Roanoke                338\n",
              "SanDiego               338\n",
              "Atlanta                338\n",
              "SanFrancisco           338\n",
              "Seattle                338\n",
              "SouthCarolina          338\n",
              "SouthCentral           338\n",
              "Southeast              338\n",
              "Spokane                338\n",
              "StLouis                338\n",
              "Syracuse               338\n",
              "Tampa                  338\n",
              "TotalUS                338\n",
              "West                   338\n",
              "NewYork                338\n",
              "NewOrleansMobile       338\n",
              "Nashville              338\n",
              "Midsouth               338\n",
              "BaltimoreWashington    338\n",
              "Boise                  338\n",
              "Boston                 338\n",
              "BuffaloRochester       338\n",
              "California             338\n",
              "Charlotte              338\n",
              "Chicago                338\n",
              "CincinnatiDayton       338\n",
              "Columbus               338\n",
              "DallasFtWorth          338\n",
              "Denver                 338\n",
              "Detroit                338\n",
              "GrandRapids            338\n",
              "GreatLakes             338\n",
              "HarrisburgScranton     338\n",
              "HartfordSpringfield    338\n",
              "Houston                338\n",
              "Indianapolis           338\n",
              "Jacksonville           338\n",
              "LasVegas               338\n",
              "LosAngeles             338\n",
              "Louisville             338\n",
              "MiamiFtLauderdale      338\n",
              "WestTexNewMexico       335\n",
              "Name: region, dtype: int64"
            ]
          },
          "metadata": {},
          "execution_count": 18
        }
      ]
    },
    {
      "cell_type": "code",
      "source": [
        "plt.savefig('Price Prediction')\n",
        "plt.show()\n",
        "import pylab as pl\n",
        "price_data.drop('AveragePrice', axis = 1).hist(bins = 30, figsize = (12, 12))\n",
        "pl.suptitle('Histogram of all input variables')\n",
        "pl.savefig('hist_price')\n",
        "pl.show()"
      ],
      "metadata": {
        "colab": {
          "base_uri": "https://localhost:8080/",
          "height": 804
        },
        "id": "_RZGKSjU8ojy",
        "outputId": "76242b41-2e0b-4066-a028-8be673f4e36b"
      },
      "execution_count": 19,
      "outputs": [
        {
          "output_type": "display_data",
          "data": {
            "text/plain": [
              "<Figure size 432x288 with 0 Axes>"
            ]
          },
          "metadata": {}
        },
        {
          "output_type": "display_data",
          "data": {
            "text/plain": [
              "<Figure size 864x864 with 12 Axes>"
            ],
            "image/png": "[encoded data removed]"
          },
          "metadata": {
            "needs_background": "light"
          }
        }
      ]
    },
    {
      "cell_type": "code",
      "source": [
        "X = price_data.drop(columns = 'type', axis = 1)\n",
        "Y = price_data['type']"
      ],
      "metadata": {
        "id": "AD-Hw3fOGeGl"
      },
      "execution_count": 20,
      "outputs": []
    },
    {
      "cell_type": "code",
      "source": [
        "feature_names = ['Total Volume',\t'Total Bags',\t'Small Bags',\t'Large Bags',\t'XLarge Bags',\t'year']\n",
        "X = price_data[feature_names]\n",
        "Y = price_data['type']"
      ],
      "metadata": {
        "id": "dfE9X8_q67kv"
      },
      "execution_count": 21,
      "outputs": []
    },
    {
      "cell_type": "code",
      "source": [
        "print(X)"
      ],
      "metadata": {
        "colab": {
          "base_uri": "https://localhost:8080/"
        },
        "id": "bOzywAKk7tUp",
        "outputId": "1e76f8bb-38a5-433c-f7b1-657122cfc021"
      },
      "execution_count": 22,
      "outputs": [
        {
          "output_type": "stream",
          "name": "stdout",
          "text": [
            "       Total Volume  Total Bags  Small Bags  Large Bags  XLarge Bags  year\n",
            "0          64236.62     8696.87     8603.62       93.25          0.0  2015\n",
            "1          54876.98     9505.56     9408.07       97.49          0.0  2015\n",
            "2         118220.22     8145.35     8042.21      103.14          0.0  2015\n",
            "3          78992.15     5811.16     5677.40      133.76          0.0  2015\n",
            "4          51039.60     6183.95     5986.26      197.69          0.0  2015\n",
            "...             ...         ...         ...         ...          ...   ...\n",
            "18244      17074.83    13498.67    13066.82      431.85          0.0  2018\n",
            "18245      13888.04     9264.84     8940.04      324.80          0.0  2018\n",
            "18246      13766.76     9394.11     9351.80       42.31          0.0  2018\n",
            "18247      16205.22    10969.54    10919.54       50.00          0.0  2018\n",
            "18248      17489.58    12014.15    11988.14       26.01          0.0  2018\n",
            "\n",
            "[18249 rows x 6 columns]\n"
          ]
        }
      ]
    },
    {
      "cell_type": "code",
      "source": [
        "print(Y)"
      ],
      "metadata": {
        "colab": {
          "base_uri": "https://localhost:8080/"
        },
        "id": "NRwoqEik7u-4",
        "outputId": "cd0aa91d-9d1a-492e-fe63-da5b17d8a97e"
      },
      "execution_count": 23,
      "outputs": [
        {
          "output_type": "stream",
          "name": "stdout",
          "text": [
            "0        0\n",
            "1        0\n",
            "2        0\n",
            "3        0\n",
            "4        0\n",
            "        ..\n",
            "18244    1\n",
            "18245    1\n",
            "18246    1\n",
            "18247    1\n",
            "18248    1\n",
            "Name: type, Length: 18249, dtype: int64\n"
          ]
        }
      ]
    },
    {
      "cell_type": "code",
      "source": [
        "X_train, X_test, Y_train, Y_test = train_test_split(X, Y, test_size = 0.1, random_state = 2)"
      ],
      "metadata": {
        "id": "nIHBHnOD7_0E"
      },
      "execution_count": 24,
      "outputs": []
    },
    {
      "cell_type": "code",
      "source": [
        "print(X.shape, X_train.shape, X_test.shape)"
      ],
      "metadata": {
        "colab": {
          "base_uri": "https://localhost:8080/"
        },
        "id": "JQRbIb2u8OH9",
        "outputId": "99015aa2-d4a8-48d7-856a-4ad2c4b7d173"
      },
      "execution_count": 25,
      "outputs": [
        {
          "output_type": "stream",
          "name": "stdout",
          "text": [
            "(18249, 6) (16424, 6) (1825, 6)\n"
          ]
        }
      ]
    },
    {
      "cell_type": "code",
      "source": [
        "print(X_train)"
      ],
      "metadata": {
        "colab": {
          "base_uri": "https://localhost:8080/"
        },
        "id": "owRaCMmo8T9T",
        "outputId": "8601191e-4857-42ad-e6f2-135e1e2fd438"
      },
      "execution_count": 26,
      "outputs": [
        {
          "output_type": "stream",
          "name": "stdout",
          "text": [
            "       Total Volume  Total Bags  Small Bags  Large Bags  XLarge Bags  year\n",
            "2407     2486654.71   608182.51   397112.08   211033.90        36.53  2015\n",
            "17324      13548.83    11218.51     1363.58     9854.93         0.00  2017\n",
            "16092     120458.72    64166.52    34038.53    30127.99         0.00  2017\n",
            "14826      21857.76    13076.07     1010.73    12065.34         0.00  2017\n",
            "11218       6005.54      179.50      179.50        0.00         0.00  2015\n",
            "...             ...         ...         ...         ...          ...   ...\n",
            "14696       8433.01     1861.76     1804.65       57.11         0.00  2016\n",
            "1099      237248.22    37333.35    36573.68      759.67         0.00  2015\n",
            "11798     625259.00   178838.00   126058.00    52779.00         0.00  2015\n",
            "6637      135854.22    63551.01    31441.95    32031.35        77.71  2017\n",
            "2575       60370.27    24061.39    24061.39        0.00         0.00  2015\n",
            "\n",
            "[16424 rows x 6 columns]\n"
          ]
        }
      ]
    },
    {
      "cell_type": "code",
      "source": [
        "print(Y_train)"
      ],
      "metadata": {
        "colab": {
          "base_uri": "https://localhost:8080/"
        },
        "id": "J5EIeNMH8VzT",
        "outputId": "dea8b5de-34de-4066-e6c5-5e9509c63a64"
      },
      "execution_count": 27,
      "outputs": [
        {
          "output_type": "stream",
          "name": "stdout",
          "text": [
            "2407     0\n",
            "17324    1\n",
            "16092    1\n",
            "14826    1\n",
            "11218    1\n",
            "        ..\n",
            "14696    1\n",
            "1099     0\n",
            "11798    1\n",
            "6637     0\n",
            "2575     0\n",
            "Name: type, Length: 16424, dtype: int64\n"
          ]
        }
      ]
    },
    {
      "cell_type": "code",
      "source": [
        "#scaler = MinMaxScaler()\n",
        "#X_train = scaler.fit_transform(X_train)\n",
        "#X_test = scaler.fit(X_test)\n"
      ],
      "metadata": {
        "id": "rstRD8o28czd"
      },
      "execution_count": 28,
      "outputs": []
    },
    {
      "cell_type": "code",
      "source": [
        "#lr = LogisticRegression()\n",
        "#lr.predict(X_train, Y_train)\n",
        "#print('Accuracy of Decision Tree Classifier {:2f})'.format(lr.score(X_train, Y_train)))"
      ],
      "metadata": {
        "id": "Zqkb6jTVImzI"
      },
      "execution_count": 29,
      "outputs": []
    },
    {
      "cell_type": "code",
      "source": [
        "#dt = DecisionTreeClassifier().fit(X_train,Y_train)\n",
        "#print('Accuracy of Decision Tree Classifier {:2f})'.format(dt.score(X_train, Y_train)))"
      ],
      "metadata": {
        "id": "Am2H3bsUEu0R"
      },
      "execution_count": 30,
      "outputs": []
    },
    {
      "cell_type": "code",
      "source": [
        "model = LogisticRegression()"
      ],
      "metadata": {
        "id": "Q2pSv7moKBcq"
      },
      "execution_count": 31,
      "outputs": []
    },
    {
      "cell_type": "code",
      "source": [
        "model.fit(X_train, Y_train)\n",
        "LogisticRegression()"
      ],
      "metadata": {
        "colab": {
          "base_uri": "https://localhost:8080/"
        },
        "id": "FQbO-6mLKGy4",
        "outputId": "fc99c0ea-9d54-4706-fe1f-fd4774b1b894"
      },
      "execution_count": 38,
      "outputs": [
        {
          "output_type": "execute_result",
          "data": {
            "text/plain": [
              "LogisticRegression()"
            ]
          },
          "metadata": {},
          "execution_count": 38
        }
      ]
    },
    {
      "cell_type": "markdown",
      "source": [
        "**Method 1**"
      ],
      "metadata": {
        "id": "xox8BtY6KJw8"
      }
    },
    {
      "cell_type": "code",
      "source": [
        "# Accuracy of training data\n",
        "X_train_prediction = model.predict(X_train)\n",
        "training_data_prediction = accuracy_score(X_train_prediction, Y_train)\n",
        "print('Accuracy of training data : ', training_data_prediction)"
      ],
      "metadata": {
        "colab": {
          "base_uri": "https://localhost:8080/"
        },
        "id": "vRPJd_IaKMF2",
        "outputId": "6b57ff53-a2fd-4151-ecfa-4dbc8c6b680c"
      },
      "execution_count": 39,
      "outputs": [
        {
          "output_type": "stream",
          "name": "stdout",
          "text": [
            "Accuracy of training data :  0.9265708718947882\n"
          ]
        }
      ]
    },
    {
      "cell_type": "code",
      "source": [
        "# Accuracy of testing data\n",
        "X_test_prediction = model.predict(X_test)\n",
        "testing_data_prediction = accuracy_score(X_test_prediction, Y_test)\n",
        "print('Accuracy of testing data : ', testing_data_prediction)"
      ],
      "metadata": {
        "colab": {
          "base_uri": "https://localhost:8080/"
        },
        "id": "YYlADt07K5wP",
        "outputId": "366a4bdd-095f-4e7c-812d-ffc4eb7d84cb"
      },
      "execution_count": 42,
      "outputs": [
        {
          "output_type": "stream",
          "name": "stdout",
          "text": [
            "Accuracy of testing data :  0.9189041095890411\n"
          ]
        }
      ]
    },
    {
      "cell_type": "markdown",
      "source": [
        " **Method 2**"
      ],
      "metadata": {
        "id": "vKznJdYAKBV3"
      }
    },
    {
      "cell_type": "code",
      "source": [
        "lr = LogisticRegression()\n",
        "lr.fit(X_test, Y_test)\n",
        "print('Accuracy of Logistic Regression {:2f})'.format(lr.score(X_train, Y_train)))\n",
        "print('Accuracy of Logistic Regression {:2f})'.format(lr.score(X_test, Y_test)))"
      ],
      "metadata": {
        "colab": {
          "base_uri": "https://localhost:8080/"
        },
        "id": "ekgh81erI7qn",
        "outputId": "1a294a54-1f3a-4c0b-caaf-837db6bb363c"
      },
      "execution_count": 45,
      "outputs": [
        {
          "output_type": "stream",
          "name": "stdout",
          "text": [
            "Accuracy of Logistic Regression 0.922187)\n",
            "Accuracy of Logistic Regression 0.911233)\n"
          ]
        }
      ]
    }
  ]
}